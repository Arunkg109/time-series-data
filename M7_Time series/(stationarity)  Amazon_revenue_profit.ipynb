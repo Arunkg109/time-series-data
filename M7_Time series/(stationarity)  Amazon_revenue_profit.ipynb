{
 "cells": [
  {
   "cell_type": "markdown",
   "id": "f8c9ba14",
   "metadata": {},
   "source": [
    "# Stationarity"
   ]
  },
  {
   "cell_type": "code",
   "execution_count": 1,
   "id": "808109cb",
   "metadata": {},
   "outputs": [],
   "source": [
    "import numpy as np\n",
    "import pandas as pd\n",
    "import matplotlib.pyplot as plt\n",
    "from datetime import datetime"
   ]
  },
  {
   "cell_type": "code",
   "execution_count": 2,
   "id": "d51f10a4",
   "metadata": {},
   "outputs": [
    {
     "data": {
      "text/html": [
       "<div>\n",
       "<style scoped>\n",
       "    .dataframe tbody tr th:only-of-type {\n",
       "        vertical-align: middle;\n",
       "    }\n",
       "\n",
       "    .dataframe tbody tr th {\n",
       "        vertical-align: top;\n",
       "    }\n",
       "\n",
       "    .dataframe thead th {\n",
       "        text-align: right;\n",
       "    }\n",
       "</style>\n",
       "<table border=\"1\" class=\"dataframe\">\n",
       "  <thead>\n",
       "    <tr style=\"text-align: right;\">\n",
       "      <th></th>\n",
       "      <th>Quarter</th>\n",
       "      <th>Revenue</th>\n",
       "      <th>Net Income</th>\n",
       "    </tr>\n",
       "  </thead>\n",
       "  <tbody>\n",
       "    <tr>\n",
       "      <th>0</th>\n",
       "      <td>3/31/2020</td>\n",
       "      <td>75452</td>\n",
       "      <td>2535</td>\n",
       "    </tr>\n",
       "    <tr>\n",
       "      <th>1</th>\n",
       "      <td>12/31/2019</td>\n",
       "      <td>87437</td>\n",
       "      <td>3268</td>\n",
       "    </tr>\n",
       "    <tr>\n",
       "      <th>2</th>\n",
       "      <td>9/30/2019</td>\n",
       "      <td>69981</td>\n",
       "      <td>2134</td>\n",
       "    </tr>\n",
       "    <tr>\n",
       "      <th>3</th>\n",
       "      <td>6/30/2019</td>\n",
       "      <td>63404</td>\n",
       "      <td>2625</td>\n",
       "    </tr>\n",
       "    <tr>\n",
       "      <th>4</th>\n",
       "      <td>3/31/2019</td>\n",
       "      <td>59700</td>\n",
       "      <td>3561</td>\n",
       "    </tr>\n",
       "  </tbody>\n",
       "</table>\n",
       "</div>"
      ],
      "text/plain": [
       "      Quarter  Revenue  Net Income\n",
       "0   3/31/2020    75452        2535\n",
       "1  12/31/2019    87437        3268\n",
       "2   9/30/2019    69981        2134\n",
       "3   6/30/2019    63404        2625\n",
       "4   3/31/2019    59700        3561"
      ]
     },
     "execution_count": 2,
     "metadata": {},
     "output_type": "execute_result"
    }
   ],
   "source": [
    "df = pd.read_csv('F:\\Skillenable\\Data frames\\Amazon_revenue_profit.csv')\n",
    "df.head()"
   ]
  },
  {
   "cell_type": "code",
   "execution_count": 3,
   "id": "68267e31",
   "metadata": {},
   "outputs": [
    {
     "data": {
      "text/plain": [
       "(61, 3)"
      ]
     },
     "execution_count": 3,
     "metadata": {},
     "output_type": "execute_result"
    }
   ],
   "source": [
    "df.shape"
   ]
  },
  {
   "cell_type": "code",
   "execution_count": 4,
   "id": "86984091",
   "metadata": {},
   "outputs": [
    {
     "name": "stdout",
     "output_type": "stream",
     "text": [
      "<class 'pandas.core.frame.DataFrame'>\n",
      "RangeIndex: 61 entries, 0 to 60\n",
      "Data columns (total 3 columns):\n",
      " #   Column      Non-Null Count  Dtype \n",
      "---  ------      --------------  ----- \n",
      " 0   Quarter     61 non-null     object\n",
      " 1   Revenue     61 non-null     int64 \n",
      " 2   Net Income  61 non-null     int64 \n",
      "dtypes: int64(2), object(1)\n",
      "memory usage: 1.6+ KB\n"
     ]
    }
   ],
   "source": [
    "df.info()"
   ]
  },
  {
   "cell_type": "code",
   "execution_count": 5,
   "id": "86eb6348",
   "metadata": {},
   "outputs": [],
   "source": [
    "# managing object variable (converting object data type into datetype)\n",
    "\n",
    "def parse(x):\n",
    "    return datetime.strftime(x, '%m%d%Y')"
   ]
  },
  {
   "cell_type": "code",
   "execution_count": 6,
   "id": "acacda11",
   "metadata": {},
   "outputs": [
    {
     "data": {
      "text/html": [
       "<div>\n",
       "<style scoped>\n",
       "    .dataframe tbody tr th:only-of-type {\n",
       "        vertical-align: middle;\n",
       "    }\n",
       "\n",
       "    .dataframe tbody tr th {\n",
       "        vertical-align: top;\n",
       "    }\n",
       "\n",
       "    .dataframe thead th {\n",
       "        text-align: right;\n",
       "    }\n",
       "</style>\n",
       "<table border=\"1\" class=\"dataframe\">\n",
       "  <thead>\n",
       "    <tr style=\"text-align: right;\">\n",
       "      <th></th>\n",
       "      <th>Quarter</th>\n",
       "      <th>Revenue</th>\n",
       "      <th>Net Income</th>\n",
       "    </tr>\n",
       "  </thead>\n",
       "  <tbody>\n",
       "    <tr>\n",
       "      <th>0</th>\n",
       "      <td>2020-03-31</td>\n",
       "      <td>75452</td>\n",
       "      <td>2535</td>\n",
       "    </tr>\n",
       "    <tr>\n",
       "      <th>1</th>\n",
       "      <td>2019-12-31</td>\n",
       "      <td>87437</td>\n",
       "      <td>3268</td>\n",
       "    </tr>\n",
       "    <tr>\n",
       "      <th>2</th>\n",
       "      <td>2019-09-30</td>\n",
       "      <td>69981</td>\n",
       "      <td>2134</td>\n",
       "    </tr>\n",
       "    <tr>\n",
       "      <th>3</th>\n",
       "      <td>2019-06-30</td>\n",
       "      <td>63404</td>\n",
       "      <td>2625</td>\n",
       "    </tr>\n",
       "    <tr>\n",
       "      <th>4</th>\n",
       "      <td>2019-03-31</td>\n",
       "      <td>59700</td>\n",
       "      <td>3561</td>\n",
       "    </tr>\n",
       "  </tbody>\n",
       "</table>\n",
       "</div>"
      ],
      "text/plain": [
       "     Quarter  Revenue  Net Income\n",
       "0 2020-03-31    75452        2535\n",
       "1 2019-12-31    87437        3268\n",
       "2 2019-09-30    69981        2134\n",
       "3 2019-06-30    63404        2625\n",
       "4 2019-03-31    59700        3561"
      ]
     },
     "execution_count": 6,
     "metadata": {},
     "output_type": "execute_result"
    }
   ],
   "source": [
    "df = pd.read_csv('F:\\Skillenable\\Data frames\\Amazon_revenue_profit.csv',\n",
    "                parse_dates=['Quarter'], keep_date_col= False)\n",
    "df.head()"
   ]
  },
  {
   "cell_type": "code",
   "execution_count": 7,
   "id": "e5871f7b",
   "metadata": {},
   "outputs": [
    {
     "name": "stdout",
     "output_type": "stream",
     "text": [
      "<class 'pandas.core.frame.DataFrame'>\n",
      "RangeIndex: 61 entries, 0 to 60\n",
      "Data columns (total 3 columns):\n",
      " #   Column      Non-Null Count  Dtype         \n",
      "---  ------      --------------  -----         \n",
      " 0   Quarter     61 non-null     datetime64[ns]\n",
      " 1   Revenue     61 non-null     int64         \n",
      " 2   Net Income  61 non-null     int64         \n",
      "dtypes: datetime64[ns](1), int64(2)\n",
      "memory usage: 1.6 KB\n"
     ]
    }
   ],
   "source": [
    "df.info()"
   ]
  },
  {
   "cell_type": "code",
   "execution_count": 8,
   "id": "8442cdd7",
   "metadata": {},
   "outputs": [
    {
     "data": {
      "text/html": [
       "<div>\n",
       "<style scoped>\n",
       "    .dataframe tbody tr th:only-of-type {\n",
       "        vertical-align: middle;\n",
       "    }\n",
       "\n",
       "    .dataframe tbody tr th {\n",
       "        vertical-align: top;\n",
       "    }\n",
       "\n",
       "    .dataframe thead th {\n",
       "        text-align: right;\n",
       "    }\n",
       "</style>\n",
       "<table border=\"1\" class=\"dataframe\">\n",
       "  <thead>\n",
       "    <tr style=\"text-align: right;\">\n",
       "      <th></th>\n",
       "      <th>Revenue</th>\n",
       "      <th>Net Income</th>\n",
       "    </tr>\n",
       "  </thead>\n",
       "  <tbody>\n",
       "    <tr>\n",
       "      <th>count</th>\n",
       "      <td>61.000000</td>\n",
       "      <td>61.000000</td>\n",
       "    </tr>\n",
       "    <tr>\n",
       "      <th>mean</th>\n",
       "      <td>22856.475410</td>\n",
       "      <td>566.311475</td>\n",
       "    </tr>\n",
       "    <tr>\n",
       "      <th>std</th>\n",
       "      <td>22210.760061</td>\n",
       "      <td>962.146914</td>\n",
       "    </tr>\n",
       "    <tr>\n",
       "      <th>min</th>\n",
       "      <td>1753.000000</td>\n",
       "      <td>-437.000000</td>\n",
       "    </tr>\n",
       "    <tr>\n",
       "      <th>25%</th>\n",
       "      <td>4889.000000</td>\n",
       "      <td>79.000000</td>\n",
       "    </tr>\n",
       "    <tr>\n",
       "      <th>50%</th>\n",
       "      <td>15704.000000</td>\n",
       "      <td>191.000000</td>\n",
       "    </tr>\n",
       "    <tr>\n",
       "      <th>75%</th>\n",
       "      <td>32714.000000</td>\n",
       "      <td>415.000000</td>\n",
       "    </tr>\n",
       "    <tr>\n",
       "      <th>max</th>\n",
       "      <td>87437.000000</td>\n",
       "      <td>3561.000000</td>\n",
       "    </tr>\n",
       "  </tbody>\n",
       "</table>\n",
       "</div>"
      ],
      "text/plain": [
       "            Revenue   Net Income\n",
       "count     61.000000    61.000000\n",
       "mean   22856.475410   566.311475\n",
       "std    22210.760061   962.146914\n",
       "min     1753.000000  -437.000000\n",
       "25%     4889.000000    79.000000\n",
       "50%    15704.000000   191.000000\n",
       "75%    32714.000000   415.000000\n",
       "max    87437.000000  3561.000000"
      ]
     },
     "execution_count": 8,
     "metadata": {},
     "output_type": "execute_result"
    }
   ],
   "source": [
    "## descriptive statistics\n",
    "df.describe()"
   ]
  },
  {
   "cell_type": "code",
   "execution_count": 9,
   "id": "445c0c2e",
   "metadata": {},
   "outputs": [],
   "source": [
    "#set index\n",
    "df.set_index('Quarter', inplace=True)"
   ]
  },
  {
   "cell_type": "code",
   "execution_count": 10,
   "id": "94d8057b",
   "metadata": {},
   "outputs": [
    {
     "data": {
      "text/html": [
       "<div>\n",
       "<style scoped>\n",
       "    .dataframe tbody tr th:only-of-type {\n",
       "        vertical-align: middle;\n",
       "    }\n",
       "\n",
       "    .dataframe tbody tr th {\n",
       "        vertical-align: top;\n",
       "    }\n",
       "\n",
       "    .dataframe thead th {\n",
       "        text-align: right;\n",
       "    }\n",
       "</style>\n",
       "<table border=\"1\" class=\"dataframe\">\n",
       "  <thead>\n",
       "    <tr style=\"text-align: right;\">\n",
       "      <th></th>\n",
       "      <th>Revenue</th>\n",
       "      <th>Net Income</th>\n",
       "    </tr>\n",
       "    <tr>\n",
       "      <th>Quarter</th>\n",
       "      <th></th>\n",
       "      <th></th>\n",
       "    </tr>\n",
       "  </thead>\n",
       "  <tbody>\n",
       "    <tr>\n",
       "      <th>2020-03-31</th>\n",
       "      <td>75452</td>\n",
       "      <td>2535</td>\n",
       "    </tr>\n",
       "    <tr>\n",
       "      <th>2019-12-31</th>\n",
       "      <td>87437</td>\n",
       "      <td>3268</td>\n",
       "    </tr>\n",
       "    <tr>\n",
       "      <th>2019-09-30</th>\n",
       "      <td>69981</td>\n",
       "      <td>2134</td>\n",
       "    </tr>\n",
       "    <tr>\n",
       "      <th>2019-06-30</th>\n",
       "      <td>63404</td>\n",
       "      <td>2625</td>\n",
       "    </tr>\n",
       "    <tr>\n",
       "      <th>2019-03-31</th>\n",
       "      <td>59700</td>\n",
       "      <td>3561</td>\n",
       "    </tr>\n",
       "  </tbody>\n",
       "</table>\n",
       "</div>"
      ],
      "text/plain": [
       "            Revenue  Net Income\n",
       "Quarter                        \n",
       "2020-03-31    75452        2535\n",
       "2019-12-31    87437        3268\n",
       "2019-09-30    69981        2134\n",
       "2019-06-30    63404        2625\n",
       "2019-03-31    59700        3561"
      ]
     },
     "execution_count": 10,
     "metadata": {},
     "output_type": "execute_result"
    }
   ],
   "source": [
    "df.head()"
   ]
  },
  {
   "cell_type": "markdown",
   "id": "45a390de",
   "metadata": {},
   "source": [
    "# Detecting stationarity"
   ]
  },
  {
   "cell_type": "markdown",
   "id": "a8be2d45",
   "metadata": {},
   "source": [
    "## 1. Visualisation"
   ]
  },
  {
   "cell_type": "markdown",
   "id": "6ad5b76d",
   "metadata": {},
   "source": [
    "### 1.a) Time Series plot"
   ]
  },
  {
   "cell_type": "code",
   "execution_count": 11,
   "id": "bf19f02c",
   "metadata": {},
   "outputs": [
    {
     "data": {
      "text/plain": [
       "[<matplotlib.lines.Line2D at 0x1afc8ccf520>]"
      ]
     },
     "execution_count": 11,
     "metadata": {},
     "output_type": "execute_result"
    },
    {
     "data": {
      "image/png": "[encoded data removed]",
      "text/plain": [
       "<Figure size 2400x800 with 1 Axes>"
      ]
     },
     "metadata": {},
     "output_type": "display_data"
    }
   ],
   "source": [
    "# For Revanue column\n",
    "\n",
    "plt.figure(num = None, figsize=(30,10), dpi= 80, facecolor='w', edgecolor = 'k')\n",
    "plt.title('Revanue', fontsize = 30)\n",
    "plt.plot(df.Revenue)"
   ]
  },
  {
   "cell_type": "code",
   "execution_count": 12,
   "id": "68d8059f",
   "metadata": {
    "scrolled": true
   },
   "outputs": [
    {
     "data": {
      "text/plain": [
       "[<matplotlib.lines.Line2D at 0x1afca626280>]"
      ]
     },
     "execution_count": 12,
     "metadata": {},
     "output_type": "execute_result"
    },
    {
     "data": {
      "image/png": "[encoded data removed]",
      "text/plain": [
       "<Figure size 2400x800 with 1 Axes>"
      ]
     },
     "metadata": {
      "needs_background": "light"
     },
     "output_type": "display_data"
    }
   ],
   "source": [
    "# For Net Income column\n",
    "\n",
    "plt.figure(num= None, figsize=(30,10), dpi= 80, edgecolor = 'k')\n",
    "plt.title('Net Income', fontsize = 30)\n",
    "plt.plot(df['Net Income'])"
   ]
  },
  {
   "cell_type": "markdown",
   "id": "29bfb0e6",
   "metadata": {},
   "source": [
    "## 2. Statistical tests"
   ]
  },
  {
   "cell_type": "markdown",
   "id": "37d30f80",
   "metadata": {},
   "source": [
    "\n",
    "- H0 : Series is stationary  (Null Hypothesis) (Unit root is present)\n",
    "- H1 : The series is not stationary (Alterante Hypothesis) (Unit root is not present)"
   ]
  },
  {
   "cell_type": "markdown",
   "id": "c4405f70",
   "metadata": {},
   "source": [
    "### 2.a) KPSS test\n",
    "- p value < significance level (alpha) (0.05)\n",
    "        - The series is non-stationary\n",
    "        \n",
    "- p value > significance level (alpha) (0.05)\n",
    "        - The series is stationary\n",
    "        "
   ]
  },
  {
   "cell_type": "code",
   "execution_count": 13,
   "id": "14e74049",
   "metadata": {},
   "outputs": [],
   "source": [
    "from statsmodels.tsa.stattools import kpss"
   ]
  },
  {
   "cell_type": "markdown",
   "id": "bbfa174a",
   "metadata": {},
   "source": [
    "#### For Revenue column\n"
   ]
  },
  {
   "cell_type": "code",
   "execution_count": 14,
   "id": "37433e0e",
   "metadata": {
    "scrolled": true
   },
   "outputs": [
    {
     "name": "stderr",
     "output_type": "stream",
     "text": [
      "C:\\Users\\arun\\anaconda3\\lib\\site-packages\\statsmodels\\tsa\\stattools.py:1875: FutureWarning: The behavior of using nlags=None will change in release 0.13.Currently nlags=None is the same as nlags=\"legacy\", and so a sample-size lag length is used. After the next release, the default will change to be the same as nlags=\"auto\" which uses an automatic lag length selection method. To silence this warning, either use \"auto\" or \"legacy\"\n",
      "  warnings.warn(msg, FutureWarning)\n"
     ]
    }
   ],
   "source": [
    "stats, p, lags, critical_values = kpss(df['Revenue'], 'ct')"
   ]
  },
  {
   "cell_type": "code",
   "execution_count": 15,
   "id": "d83ad5a9",
   "metadata": {},
   "outputs": [
    {
     "data": {
      "text/plain": [
       "(0.1700516821083097,\n",
       " 0.029956931576408573,\n",
       " 11,\n",
       " {'10%': 0.119, '5%': 0.146, '2.5%': 0.176, '1%': 0.216})"
      ]
     },
     "execution_count": 15,
     "metadata": {},
     "output_type": "execute_result"
    }
   ],
   "source": [
    "stats, p, lags, critical_values"
   ]
  },
  {
   "cell_type": "code",
   "execution_count": 16,
   "id": "a4c4b0ab",
   "metadata": {},
   "outputs": [
    {
     "name": "stdout",
     "output_type": "stream",
     "text": [
      "Test Statistics: 0.1700516821083097\n",
      "p-value: 0.029956931576408573\n",
      "critical values: {'10%': 0.119, '5%': 0.146, '2.5%': 0.176, '1%': 0.216}\n"
     ]
    }
   ],
   "source": [
    "print(f'Test Statistics: {stats}')\n",
    "print(f'p-value: {p}')\n",
    "print(f'critical values: {critical_values}')"
   ]
  },
  {
   "cell_type": "code",
   "execution_count": 17,
   "id": "bb067334",
   "metadata": {},
   "outputs": [
    {
     "name": "stdout",
     "output_type": "stream",
     "text": [
      " The series is non-stationary\n"
     ]
    }
   ],
   "source": [
    "if p< 0.05:\n",
    "    print(\" The series is non-stationary\")\n",
    "else:\n",
    "        print(\" The series is stationary\")"
   ]
  },
  {
   "cell_type": "markdown",
   "id": "affffe9c",
   "metadata": {},
   "source": [
    "#### for Net income column"
   ]
  },
  {
   "cell_type": "code",
   "execution_count": 18,
   "id": "5c6ff19c",
   "metadata": {
    "scrolled": true
   },
   "outputs": [],
   "source": [
    "stats, p, lags, critical_values = kpss(df['Net Income'], 'ct')"
   ]
  },
  {
   "cell_type": "code",
   "execution_count": 19,
   "id": "ee3fc90f",
   "metadata": {},
   "outputs": [
    {
     "name": "stdout",
     "output_type": "stream",
     "text": [
      "Test Statistics: 0.14817496842336633\n",
      "p-value: 0.04818752631386138\n",
      "critical values: {'10%': 0.119, '5%': 0.146, '2.5%': 0.176, '1%': 0.216}\n"
     ]
    }
   ],
   "source": [
    "print(f'Test Statistics: {stats}')\n",
    "print(f'p-value: {p}')\n",
    "print(f'critical values: {critical_values}')"
   ]
  },
  {
   "cell_type": "code",
   "execution_count": 20,
   "id": "24ad201b",
   "metadata": {},
   "outputs": [
    {
     "name": "stdout",
     "output_type": "stream",
     "text": [
      " The series is non-stationary\n"
     ]
    }
   ],
   "source": [
    "if p< 0.05:\n",
    "    print(\" The series is non-stationary\")\n",
    "else:\n",
    "        print(\" The series is stationary\")"
   ]
  },
  {
   "cell_type": "code",
   "execution_count": null,
   "id": "79efeea7",
   "metadata": {},
   "outputs": [],
   "source": []
  },
  {
   "cell_type": "code",
   "execution_count": null,
   "id": "498e555e",
   "metadata": {},
   "outputs": [],
   "source": []
  },
  {
   "cell_type": "code",
   "execution_count": null,
   "id": "6839fa7c",
   "metadata": {},
   "outputs": [],
   "source": []
  },
  {
   "cell_type": "code",
   "execution_count": null,
   "id": "dcf329d4",
   "metadata": {},
   "outputs": [],
   "source": []
  },
  {
   "cell_type": "markdown",
   "id": "2ffad878",
   "metadata": {},
   "source": [
    "### 2.a) ADF test\n",
    "- p value < significance level (alpha) (0.05) (unit root is present)\n",
    "        - The series is stationary\n",
    "        \n",
    "- p value > significance level (alpha) (0.05)\n",
    "        - The series is non- stationary (Unit root is not present)\n",
    "        "
   ]
  },
  {
   "cell_type": "code",
   "execution_count": 21,
   "id": "e7985076",
   "metadata": {},
   "outputs": [],
   "source": [
    "from statsmodels.tsa.stattools import adfuller"
   ]
  },
  {
   "cell_type": "markdown",
   "id": "b49026ae",
   "metadata": {},
   "source": [
    "#### For Revenue column"
   ]
  },
  {
   "cell_type": "code",
   "execution_count": 22,
   "id": "de326921",
   "metadata": {},
   "outputs": [],
   "source": [
    "result = adfuller(df['Revenue'])"
   ]
  },
  {
   "cell_type": "code",
   "execution_count": 23,
   "id": "11f4be77",
   "metadata": {},
   "outputs": [
    {
     "data": {
      "text/plain": [
       "(-2.4448360381972414,\n",
       " 0.1294794312183855,\n",
       " 10,\n",
       " 50,\n",
       " {'1%': -3.568485864, '5%': -2.92135992, '10%': -2.5986616},\n",
       " 753.7964652720992)"
      ]
     },
     "execution_count": 23,
     "metadata": {},
     "output_type": "execute_result"
    }
   ],
   "source": [
    "result"
   ]
  },
  {
   "cell_type": "code",
   "execution_count": 24,
   "id": "14d80c50",
   "metadata": {
    "scrolled": true
   },
   "outputs": [
    {
     "name": "stdout",
     "output_type": "stream",
     "text": [
      "Test Statistics: -2.4448360381972414\n",
      "p-value: 0.1294794312183855\n",
      "critical values: {'1%': -3.568485864, '5%': -2.92135992, '10%': -2.5986616}\n"
     ]
    }
   ],
   "source": [
    "print(f'Test Statistics: {result[0]}')\n",
    "print(f'p-value: {result[1]}')\n",
    "print(f'critical values: {result[4]}')  # [2] and [3] are lag, we don't need that"
   ]
  },
  {
   "cell_type": "code",
   "execution_count": 25,
   "id": "c90630b4",
   "metadata": {},
   "outputs": [
    {
     "name": "stdout",
     "output_type": "stream",
     "text": [
      " The series is non-stationary\n"
     ]
    }
   ],
   "source": [
    "if result[1] > 0.05:\n",
    "        print(\" The series is non-stationary\")\n",
    "else:\n",
    "        print(\" The series is stationary\")\n"
   ]
  },
  {
   "cell_type": "markdown",
   "id": "e7b8844f",
   "metadata": {},
   "source": []
  },
  {
   "cell_type": "markdown",
   "id": "9464200a",
   "metadata": {},
   "source": [
    "# Converting a non-stationary series to a stationary series\n",
    "\n",
    "## Method 1. Differencing and seasonal differencing"
   ]
  },
  {
   "cell_type": "markdown",
   "id": "44b40cc8",
   "metadata": {},
   "source": [
    "### Differencing\n",
    "y(t) = y(t)-y(t-1)"
   ]
  },
  {
   "cell_type": "code",
   "execution_count": 28,
   "id": "a3f64cc4",
   "metadata": {},
   "outputs": [],
   "source": [
    "df['Revenue_diff'] = df['Revenue']-df['Revenue'].shift(1)"
   ]
  },
  {
   "cell_type": "code",
   "execution_count": 29,
   "id": "569bb332",
   "metadata": {},
   "outputs": [
    {
     "data": {
      "text/plain": [
       "Quarter\n",
       "2020-03-31        NaN\n",
       "2019-12-31    11985.0\n",
       "2019-09-30   -17456.0\n",
       "2019-06-30    -6577.0\n",
       "2019-03-31    -3704.0\n",
       "               ...   \n",
       "2006-03-31      140.0\n",
       "2005-12-31      698.0\n",
       "2005-09-30    -1119.0\n",
       "2005-06-30     -105.0\n",
       "2005-03-31      149.0\n",
       "Name: Revenue_diff, Length: 61, dtype: float64"
      ]
     },
     "execution_count": 29,
     "metadata": {},
     "output_type": "execute_result"
    }
   ],
   "source": [
    "df['Revenue_diff']"
   ]
  },
  {
   "cell_type": "code",
   "execution_count": 30,
   "id": "6a4e2fd1",
   "metadata": {},
   "outputs": [
    {
     "data": {
      "text/plain": [
       "<AxesSubplot:xlabel='Quarter'>"
      ]
     },
     "execution_count": 30,
     "metadata": {},
     "output_type": "execute_result"
    },
    {
     "data": {
      "image/png": "[encoded data removed]",
      "text/plain": [
       "<Figure size 432x288 with 1 Axes>"
      ]
     },
     "metadata": {
      "needs_background": "light"
     },
     "output_type": "display_data"
    }
   ],
   "source": [
    "df['Revenue_diff'].dropna().plot()"
   ]
  },
  {
   "cell_type": "code",
   "execution_count": 37,
   "id": "765681a5",
   "metadata": {},
   "outputs": [],
   "source": [
    "result1 = adfuller(df['Revenue_diff'].dropna())"
   ]
  },
  {
   "cell_type": "code",
   "execution_count": 38,
   "id": "dbb8d8b3",
   "metadata": {},
   "outputs": [
    {
     "name": "stdout",
     "output_type": "stream",
     "text": [
      "Test Statistics: -2.4448360381972414\n",
      "p-value: 0.1294794312183855\n",
      "critical values: {'1%': -3.568485864, '5%': -2.92135992, '10%': -2.5986616}\n",
      " The series is stationary\n"
     ]
    }
   ],
   "source": [
    "print(f'Test Statistics: {result[0]}')\n",
    "print(f'p-value: {result[1]}')\n",
    "print(f'critical values: {result[4]}')  # [2] and [3] are lag, we don't need that\n",
    "\n",
    "if result1[1] > 0.05:\n",
    "        print(\" The series is non-stationary\")\n",
    "else:\n",
    "        print(\" The series is stationary\")\n"
   ]
  },
  {
   "cell_type": "markdown",
   "id": "b55c4357",
   "metadata": {},
   "source": [
    "## perform for Net profit column"
   ]
  },
  {
   "cell_type": "code",
   "execution_count": 53,
   "id": "8bea3fd5",
   "metadata": {},
   "outputs": [
    {
     "data": {
      "text/plain": [
       "Quarter\n",
       "2020-03-31       NaN\n",
       "2019-12-31     733.0\n",
       "2019-09-30   -1134.0\n",
       "2019-06-30     491.0\n",
       "2019-03-31     936.0\n",
       "               ...  \n",
       "2006-03-31      29.0\n",
       "2005-12-31     148.0\n",
       "2005-09-30    -169.0\n",
       "2005-06-30      22.0\n",
       "2005-03-31      26.0\n",
       "Name: Net Income_diff, Length: 61, dtype: float64"
      ]
     },
     "execution_count": 53,
     "metadata": {},
     "output_type": "execute_result"
    }
   ],
   "source": [
    "df['Net Income_diff'] = df['Net Income']-df['Net Income'].shift(1)\n",
    "df['Net Income_diff']"
   ]
  },
  {
   "cell_type": "code",
   "execution_count": 54,
   "id": "4b2c6758",
   "metadata": {},
   "outputs": [
    {
     "data": {
      "text/plain": [
       "<AxesSubplot:xlabel='Quarter'>"
      ]
     },
     "execution_count": 54,
     "metadata": {},
     "output_type": "execute_result"
    },
    {
     "data": {
      "image/png": "[encoded data removed]",
      "text/plain": [
       "<Figure size 432x288 with 1 Axes>"
      ]
     },
     "metadata": {
      "needs_background": "light"
     },
     "output_type": "display_data"
    }
   ],
   "source": [
    "df['Net Income_diff'].dropna().plot()"
   ]
  },
  {
   "cell_type": "code",
   "execution_count": 57,
   "id": "f57dc94e",
   "metadata": {},
   "outputs": [],
   "source": [
    "result2 = adfuller(df['Net Income_diff'].dropna())"
   ]
  },
  {
   "cell_type": "code",
   "execution_count": 58,
   "id": "1cf0bcd8",
   "metadata": {},
   "outputs": [
    {
     "name": "stdout",
     "output_type": "stream",
     "text": [
      "Test Statistics: -4.231655971721901\n",
      "p-value: 0.0005821531764100457\n",
      "critical values: {'1%': -3.5745892596209488, '5%': -2.9239543084490744, '10%': -2.6000391840277777}\n",
      " The series is stationary\n"
     ]
    }
   ],
   "source": [
    "print(f'Test Statistics: {result[0]}')\n",
    "print(f'p-value: {result[1]}')\n",
    "print(f'critical values: {result[4]}')  # [2] and [3] are lag, we don't need that\n",
    "\n",
    "if result2[1] > 0.05:\n",
    "        print(\" The series is non-stationary\")\n",
    "else:\n",
    "        print(\" The series is stationary\")\n"
   ]
  },
  {
   "cell_type": "markdown",
   "id": "4fabcdc2",
   "metadata": {},
   "source": [
    "## differencing for Net income and varifying KPSS test"
   ]
  },
  {
   "cell_type": "markdown",
   "id": "a83baea2",
   "metadata": {},
   "source": [
    "#### KPSS test"
   ]
  },
  {
   "cell_type": "code",
   "execution_count": 50,
   "id": "b6e43fd5",
   "metadata": {},
   "outputs": [],
   "source": [
    "stats, p, lags, critical_values = kpss(df['Net Income'], 'ct')"
   ]
  },
  {
   "cell_type": "code",
   "execution_count": 59,
   "id": "e0cc3de7",
   "metadata": {},
   "outputs": [
    {
     "name": "stdout",
     "output_type": "stream",
     "text": [
      "Test Statistics: 0.14817496842336633\n",
      "p-value: 0.04818752631386138\n",
      "critical values: {'10%': 0.119, '5%': 0.146, '2.5%': 0.176, '1%': 0.216}\n",
      " The series is non-stationary\n"
     ]
    }
   ],
   "source": [
    "print(f'Test Statistics: {stats}')\n",
    "print(f'p-value: {p}')\n",
    "print(f'critical values: {critical_values}')\n",
    "\n",
    "if p < 0.05:\n",
    "    print(\" The series is non-stationary\")\n",
    "else:\n",
    "        print(\" The series is stationary\")"
   ]
  },
  {
   "cell_type": "code",
   "execution_count": 60,
   "id": "aeceb123",
   "metadata": {},
   "outputs": [],
   "source": [
    "#### either of one test will work; it's for only validation perpose"
   ]
  },
  {
   "cell_type": "markdown",
   "id": "12826fe6",
   "metadata": {},
   "source": [
    "#### Seasonal differncing"
   ]
  },
  {
   "cell_type": "code",
   "execution_count": 61,
   "id": "8fe7ee4e",
   "metadata": {},
   "outputs": [],
   "source": [
    "## THe sales will be more on weekends as copare to weekdays\n",
    "### Seasonal - monthwise\n",
    "## weekly - 7"
   ]
  },
  {
   "cell_type": "code",
   "execution_count": 63,
   "id": "eae089d0",
   "metadata": {},
   "outputs": [],
   "source": [
    "# seasonal differencing\n",
    "\n",
    "#   y(t)= y(t)-y(t-n)"
   ]
  },
  {
   "cell_type": "code",
   "execution_count": 72,
   "id": "2b1f46bc",
   "metadata": {},
   "outputs": [],
   "source": [
    "df['Revenue_dff_7'] = df['Revenue']-df['Revenue_diff'].shift(7)"
   ]
  },
  {
   "cell_type": "code",
   "execution_count": 73,
   "id": "61abe248",
   "metadata": {},
   "outputs": [
    {
     "data": {
      "text/plain": [
       "Quarter\n",
       "2020-03-31       NaN\n",
       "2019-12-31       NaN\n",
       "2019-09-30       NaN\n",
       "2019-06-30       NaN\n",
       "2019-03-31       NaN\n",
       "               ...  \n",
       "2006-03-31     742.0\n",
       "2005-12-31    5387.0\n",
       "2005-09-30    2234.0\n",
       "2005-06-30    1624.0\n",
       "2005-03-31     931.0\n",
       "Name: Revenue_dff_7, Length: 61, dtype: float64"
      ]
     },
     "execution_count": 73,
     "metadata": {},
     "output_type": "execute_result"
    }
   ],
   "source": [
    "df['Revenue_dff_7']"
   ]
  },
  {
   "cell_type": "code",
   "execution_count": 74,
   "id": "36024230",
   "metadata": {},
   "outputs": [
    {
     "data": {
      "text/plain": [
       "<AxesSubplot:xlabel='Quarter'>"
      ]
     },
     "execution_count": 74,
     "metadata": {},
     "output_type": "execute_result"
    },
    {
     "data": {
      "image/png": "[encoded data removed]",
      "text/plain": [
       "<Figure size 432x288 with 1 Axes>"
      ]
     },
     "metadata": {
      "needs_background": "light"
     },
     "output_type": "display_data"
    }
   ],
   "source": [
    "df['Revenue_dff_7'].dropna().plot()"
   ]
  },
  {
   "cell_type": "markdown",
   "id": "9ad0b2af",
   "metadata": {},
   "source": [
    "# Method 2: Transformation\n",
    "\n",
    "- log\n",
    "- sqrt\n",
    "- cubrt"
   ]
  },
  {
   "cell_type": "code",
   "execution_count": 78,
   "id": "a2a9a2f5",
   "metadata": {},
   "outputs": [],
   "source": [
    "# log transformation\n",
    "\n",
    "df['Revenue_log'] = np.log(df['Revenue'])   # taking logarithm of the entire data in order to make it satationary"
   ]
  },
  {
   "cell_type": "code",
   "execution_count": 76,
   "id": "b6790594",
   "metadata": {},
   "outputs": [
    {
     "data": {
      "text/plain": [
       "Quarter\n",
       "2020-03-31    11.231252\n",
       "2019-12-31    11.378674\n",
       "2019-09-30    11.155979\n",
       "2019-06-30    11.057282\n",
       "2019-03-31    10.997087\n",
       "                ...    \n",
       "2006-03-31     7.731492\n",
       "2005-12-31     7.998671\n",
       "2005-09-30     7.527256\n",
       "2005-06-30     7.469084\n",
       "2005-03-31     7.550661\n",
       "Name: Revenue_log, Length: 61, dtype: float64"
      ]
     },
     "execution_count": 76,
     "metadata": {},
     "output_type": "execute_result"
    }
   ],
   "source": [
    "df['Revenue_log']"
   ]
  },
  {
   "cell_type": "code",
   "execution_count": 77,
   "id": "210df1cf",
   "metadata": {},
   "outputs": [
    {
     "data": {
      "text/plain": [
       "<AxesSubplot:xlabel='Quarter'>"
      ]
     },
     "execution_count": 77,
     "metadata": {},
     "output_type": "execute_result"
    },
    {
     "data": {
      "image/png": "[encoded data removed]",
      "text/plain": [
       "<Figure size 432x288 with 1 Axes>"
      ]
     },
     "metadata": {
      "needs_background": "light"
     },
     "output_type": "display_data"
    }
   ],
   "source": [
    "df['Revenue_log'].dropna().plot()"
   ]
  },
  {
   "cell_type": "code",
   "execution_count": 79,
   "id": "6593d106",
   "metadata": {},
   "outputs": [],
   "source": [
    "# sqrt transformation\n",
    "\n",
    "df['Revenue_sqrt'] = np.sqrt(df['Revenue'])   # taking sqrt of the entire data in order to make it satationary"
   ]
  },
  {
   "cell_type": "code",
   "execution_count": 80,
   "id": "3cc337da",
   "metadata": {},
   "outputs": [
    {
     "data": {
      "text/plain": [
       "Quarter\n",
       "2020-03-31    274.685274\n",
       "2019-12-31    295.697481\n",
       "2019-09-30    264.539222\n",
       "2019-06-30    251.801509\n",
       "2019-03-31    244.335834\n",
       "                 ...    \n",
       "2006-03-31     47.738873\n",
       "2005-12-31     54.561891\n",
       "2005-09-30     43.104524\n",
       "2005-06-30     41.868843\n",
       "2005-03-31     43.611925\n",
       "Name: Revenue_sqrt, Length: 61, dtype: float64"
      ]
     },
     "execution_count": 80,
     "metadata": {},
     "output_type": "execute_result"
    }
   ],
   "source": [
    "df['Revenue_sqrt']"
   ]
  },
  {
   "cell_type": "code",
   "execution_count": 81,
   "id": "5a4bdd92",
   "metadata": {},
   "outputs": [
    {
     "data": {
      "text/plain": [
       "<AxesSubplot:xlabel='Quarter'>"
      ]
     },
     "execution_count": 81,
     "metadata": {},
     "output_type": "execute_result"
    },
    {
     "data": {
      "image/png": "[encoded data removed]",
      "text/plain": [
       "<Figure size 432x288 with 1 Axes>"
      ]
     },
     "metadata": {
      "needs_background": "light"
     },
     "output_type": "display_data"
    }
   ],
   "source": [
    "df['Revenue_sqrt'].dropna().plot()"
   ]
  },
  {
   "cell_type": "code",
   "execution_count": 82,
   "id": "d36569b4",
   "metadata": {},
   "outputs": [],
   "source": [
    "# qbrt transformation\n",
    "\n",
    "df['Revenue_qbrt'] = np.sqrt(df['Revenue'])   # taking qbrt of the entire data in order to make it satationary"
   ]
  },
  {
   "cell_type": "code",
   "execution_count": 83,
   "id": "7b9f972e",
   "metadata": {},
   "outputs": [
    {
     "data": {
      "text/plain": [
       "Quarter\n",
       "2020-03-31    274.685274\n",
       "2019-12-31    295.697481\n",
       "2019-09-30    264.539222\n",
       "2019-06-30    251.801509\n",
       "2019-03-31    244.335834\n",
       "                 ...    \n",
       "2006-03-31     47.738873\n",
       "2005-12-31     54.561891\n",
       "2005-09-30     43.104524\n",
       "2005-06-30     41.868843\n",
       "2005-03-31     43.611925\n",
       "Name: Revenue_qbrt, Length: 61, dtype: float64"
      ]
     },
     "execution_count": 83,
     "metadata": {},
     "output_type": "execute_result"
    }
   ],
   "source": [
    "df['Revenue_qbrt']"
   ]
  },
  {
   "cell_type": "code",
   "execution_count": 84,
   "id": "2c87c27d",
   "metadata": {},
   "outputs": [
    {
     "data": {
      "text/plain": [
       "<AxesSubplot:xlabel='Quarter'>"
      ]
     },
     "execution_count": 84,
     "metadata": {},
     "output_type": "execute_result"
    },
    {
     "data": {
      "image/png": "[encoded data removed]",
      "text/plain": [
       "<Figure size 432x288 with 1 Axes>"
      ]
     },
     "metadata": {
      "needs_background": "light"
     },
     "output_type": "display_data"
    }
   ],
   "source": [
    "df['Revenue_qbrt'].dropna().plot()"
   ]
  },
  {
   "cell_type": "markdown",
   "id": "d987a2d4",
   "metadata": {},
   "source": [
    "# Method 3: Rollong mean"
   ]
  },
  {
   "cell_type": "code",
   "execution_count": 86,
   "id": "551fa5d6",
   "metadata": {},
   "outputs": [],
   "source": [
    "df['Revenue_RM'] = df['Revenue'].rolling(window= 20).mean()"
   ]
  },
  {
   "cell_type": "code",
   "execution_count": 87,
   "id": "0c5a9f0c",
   "metadata": {},
   "outputs": [
    {
     "data": {
      "text/plain": [
       "<AxesSubplot:xlabel='Quarter'>"
      ]
     },
     "execution_count": 87,
     "metadata": {},
     "output_type": "execute_result"
    },
    {
     "data": {
      "image/png": "[encoded data removed]",
      "text/plain": [
       "<Figure size 432x288 with 1 Axes>"
      ]
     },
     "metadata": {
      "needs_background": "light"
     },
     "output_type": "display_data"
    }
   ],
   "source": [
    "df['Revenue_RM'].dropna().plot()"
   ]
  },
  {
   "cell_type": "markdown",
   "id": "da634649",
   "metadata": {},
   "source": [
    "### When more window - more observation are taken into consideration and the fluctuation become less and the data is more smoother"
   ]
  },
  {
   "cell_type": "markdown",
   "id": "11f88619",
   "metadata": {},
   "source": [
    "- Stationarity \n",
    "- how to detect stationarity \n",
    "- visualization\n",
    "- Statistical methods- KPSS & ADS\n",
    "- How to convert non stationary ts to stationary ts"
   ]
  }
 ],
 "metadata": {
  "kernelspec": {
   "display_name": "Python 3 (ipykernel)",
   "language": "python",
   "name": "python3"
  },
  "language_info": {
   "codemirror_mode": {
    "name": "ipython",
    "version": 3
   },
   "file_extension": ".py",
   "mimetype": "text/x-python",
   "name": "python",
   "nbconvert_exporter": "python",
   "pygments_lexer": "ipython3",
   "version": "3.9.7"
  }
 },
 "nbformat": 4,
 "nbformat_minor": 5
}
