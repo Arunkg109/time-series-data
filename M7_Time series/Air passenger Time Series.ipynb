{
 "cells": [
  {
   "cell_type": "markdown",
   "id": "d59bcf8a",
   "metadata": {},
   "source": [
    "# Air Passenger dataset\n"
   ]
  },
  {
   "cell_type": "markdown",
   "id": "4a817a93",
   "metadata": {},
   "source": [
    "- Check for missing values\n",
    "- Fill the null values using forward fill and rolling mean\n",
    "- Plot the series\n",
    "- Check for stationarity in the data using KPSS test\n",
    "- Convert the non-stationary data to stationary by the method of differencing\n",
    "- Plot ACF and PCAF for the data\n",
    "- Perform the ARIMA forecasting of the data\n",
    "- Check for Accuracy of the data\n",
    "- Conclude your results"
   ]
  },
  {
   "cell_type": "code",
   "execution_count": 1,
   "id": "3cb8c343",
   "metadata": {},
   "outputs": [
    {
     "data": {
      "text/html": [
       "<div>\n",
       "<style scoped>\n",
       "    .dataframe tbody tr th:only-of-type {\n",
       "        vertical-align: middle;\n",
       "    }\n",
       "\n",
       "    .dataframe tbody tr th {\n",
       "        vertical-align: top;\n",
       "    }\n",
       "\n",
       "    .dataframe thead th {\n",
       "        text-align: right;\n",
       "    }\n",
       "</style>\n",
       "<table border=\"1\" class=\"dataframe\">\n",
       "  <thead>\n",
       "    <tr style=\"text-align: right;\">\n",
       "      <th></th>\n",
       "      <th>Month</th>\n",
       "      <th>#Passengers</th>\n",
       "    </tr>\n",
       "  </thead>\n",
       "  <tbody>\n",
       "    <tr>\n",
       "      <th>0</th>\n",
       "      <td>1949-01-01</td>\n",
       "      <td>112</td>\n",
       "    </tr>\n",
       "    <tr>\n",
       "      <th>1</th>\n",
       "      <td>1949-02-01</td>\n",
       "      <td>118</td>\n",
       "    </tr>\n",
       "    <tr>\n",
       "      <th>2</th>\n",
       "      <td>1949-03-01</td>\n",
       "      <td>132</td>\n",
       "    </tr>\n",
       "    <tr>\n",
       "      <th>3</th>\n",
       "      <td>1949-04-01</td>\n",
       "      <td>129</td>\n",
       "    </tr>\n",
       "    <tr>\n",
       "      <th>4</th>\n",
       "      <td>1949-05-01</td>\n",
       "      <td>121</td>\n",
       "    </tr>\n",
       "  </tbody>\n",
       "</table>\n",
       "</div>"
      ],
      "text/plain": [
       "       Month  #Passengers\n",
       "0 1949-01-01          112\n",
       "1 1949-02-01          118\n",
       "2 1949-03-01          132\n",
       "3 1949-04-01          129\n",
       "4 1949-05-01          121"
      ]
     },
     "execution_count": 1,
     "metadata": {},
     "output_type": "execute_result"
    }
   ],
   "source": [
    "import pandas as pd\n",
    "import numpy as np\n",
    "import matplotlib.pyplot as plt\n",
    "from statsmodels.tsa.stattools import adfuller\n",
    "import warnings\n",
    "warnings.filterwarnings(\"ignore\")\n",
    "from sklearn.decomposition import PCA\n",
    "from sklearn.preprocessing import StandardScaler\n",
    "from matplotlib import pyplot as plt\n",
    "\n",
    "# Importing the data set\n",
    "\n",
    "df = pd.read_csv('F:\\Skillenable\\Data frames\\AirPassengers_.csv', parse_dates = ['Month'])\n",
    "\n",
    "df.head()"
   ]
  },
  {
   "cell_type": "code",
   "execution_count": 2,
   "id": "1f2a684a",
   "metadata": {},
   "outputs": [
    {
     "data": {
      "text/plain": [
       "pandas.core.series.Series"
      ]
     },
     "execution_count": 2,
     "metadata": {},
     "output_type": "execute_result"
    }
   ],
   "source": [
    "# As my data is inform a data frame (rows and columns), i must convert this into a pandas series by: \n",
    "# STEP A: Set the interval column as index values\n",
    "\n",
    "ts = df.set_index(\"Month\")\n",
    "\n",
    "ts.head()\n",
    "\n",
    "# STEP B: To convert the data frame into series\n",
    "\n",
    "final_ts = ts['#Passengers']\n",
    "\n",
    "type(final_ts)"
   ]
  },
  {
   "cell_type": "code",
   "execution_count": 3,
   "id": "0edb524c",
   "metadata": {},
   "outputs": [],
   "source": [
    "# KPSS test\n",
    "from statsmodels.tsa.stattools import kpss"
   ]
  },
  {
   "cell_type": "code",
   "execution_count": 4,
   "id": "ed21b3bd",
   "metadata": {},
   "outputs": [],
   "source": [
    "stats, p, lags, critical_values = kpss(df['#Passengers'], 'ct')"
   ]
  },
  {
   "cell_type": "code",
   "execution_count": 5,
   "id": "98ccf369",
   "metadata": {},
   "outputs": [
    {
     "name": "stdout",
     "output_type": "stream",
     "text": [
      "Test Statistics: 0.16273657405822856\n",
      "p-value: 0.0360528549514762\n",
      "critical values: {'10%': 0.119, '5%': 0.146, '2.5%': 0.176, '1%': 0.216}\n"
     ]
    }
   ],
   "source": [
    "stats, p, lags, critical_values\n",
    "\n",
    "print(f'Test Statistics: {stats}')\n",
    "print(f'p-value: {p}')\n",
    "print(f'critical values: {critical_values}')"
   ]
  },
  {
   "cell_type": "code",
   "execution_count": 6,
   "id": "94230608",
   "metadata": {},
   "outputs": [
    {
     "name": "stdout",
     "output_type": "stream",
     "text": [
      " The series is non-stationary\n"
     ]
    }
   ],
   "source": [
    "if p< 0.05:\n",
    "    print(\" The series is non-stationary\")\n",
    "else:\n",
    "        print(\" The series is stationary\")"
   ]
  },
  {
   "cell_type": "code",
   "execution_count": 7,
   "id": "87e4ef4e",
   "metadata": {},
   "outputs": [
    {
     "data": {
      "text/plain": [
       "Month\n",
       "1949-01-01    4.718499\n",
       "1949-02-01    4.770685\n",
       "1949-03-01    4.882802\n",
       "1949-04-01    4.859812\n",
       "1949-05-01    4.795791\n",
       "Name: #Passengers, dtype: float64"
      ]
     },
     "execution_count": 7,
     "metadata": {},
     "output_type": "execute_result"
    }
   ],
   "source": [
    "# convert the time series into stationary\n",
    "# peform the log tranformation\n",
    "\n",
    "log_ts = np.log(final_ts)\n",
    "log_ts.head()"
   ]
  },
  {
   "cell_type": "code",
   "execution_count": 8,
   "id": "2fc1f7b6",
   "metadata": {},
   "outputs": [
    {
     "data": {
      "text/plain": [
       "[<matplotlib.lines.Line2D at 0x1869871f790>]"
      ]
     },
     "execution_count": 8,
     "metadata": {},
     "output_type": "execute_result"
    },
    {
     "data": {
      "image/png": "[encoded data removed]",
      "text/plain": [
       "<Figure size 432x288 with 1 Axes>"
      ]
     },
     "metadata": {
      "needs_background": "light"
     },
     "output_type": "display_data"
    }
   ],
   "source": [
    "#differencing the time series - This can be done using shift()\n",
    "\n",
    "diff1_ts = log_ts - log_ts.shift()\n",
    "\n",
    "# Lets plot the diff1_ts\n",
    "plt.plot(diff1_ts)\n"
   ]
  },
  {
   "cell_type": "code",
   "execution_count": 9,
   "id": "e8e22d1d",
   "metadata": {},
   "outputs": [
    {
     "data": {
      "text/plain": [
       "(-8.196629132182297,\n",
       " 7.419304549373687e-13,\n",
       " 13,\n",
       " 128,\n",
       " {'1%': -3.4825006939887997,\n",
       "  '5%': -2.884397984161377,\n",
       "  '10%': -2.578960197753906},\n",
       " -430.89362828642743)"
      ]
     },
     "execution_count": 9,
     "metadata": {},
     "output_type": "execute_result"
    }
   ],
   "source": [
    "#level 2 differencing\n",
    "diff2_ts = diff1_ts - diff1_ts.shift()\n",
    "\n",
    "# Remove the missing values\n",
    "diff2_ts.dropna(inplace = True)\n",
    "\n",
    "# Lets perform the dikey-fuller test\n",
    "result2 = adfuller(diff2_ts)\n",
    "result2"
   ]
  },
  {
   "cell_type": "code",
   "execution_count": 10,
   "id": "17f4f4eb",
   "metadata": {},
   "outputs": [],
   "source": [
    "# By-passing ACF\n",
    "\n",
    "# build ARIMA model- AR model with p = 1, d = 2, q = 0\n",
    "\n",
    "from statsmodels.tsa.arima_model import ARIMA\n",
    "\n",
    "\n"
   ]
  },
  {
   "cell_type": "code",
   "execution_count": 11,
   "id": "3ff20542",
   "metadata": {},
   "outputs": [
    {
     "data": {
      "text/html": [
       "<table class=\"simpletable\">\n",
       "<caption>ARIMA Model Results</caption>\n",
       "<tr>\n",
       "  <th>Dep. Variable:</th>  <td>D2.#Passengers</td>  <th>  No. Observations:  </th>    <td>142</td>  \n",
       "</tr>\n",
       "<tr>\n",
       "  <th>Model:</th>          <td>ARIMA(1, 2, 0)</td>  <th>  Log Likelihood     </th>  <td>89.869</td> \n",
       "</tr>\n",
       "<tr>\n",
       "  <th>Method:</th>             <td>css-mle</td>     <th>  S.D. of innovations</th>   <td>0.128</td> \n",
       "</tr>\n",
       "<tr>\n",
       "  <th>Date:</th>          <td>Fri, 25 Feb 2022</td> <th>  AIC                </th> <td>-173.738</td>\n",
       "</tr>\n",
       "<tr>\n",
       "  <th>Time:</th>              <td>11:57:52</td>     <th>  BIC                </th> <td>-164.870</td>\n",
       "</tr>\n",
       "<tr>\n",
       "  <th>Sample:</th>           <td>03-01-1949</td>    <th>  HQIC               </th> <td>-170.135</td>\n",
       "</tr>\n",
       "<tr>\n",
       "  <th></th>                 <td>- 12-01-1960</td>   <th>                     </th>     <td> </td>   \n",
       "</tr>\n",
       "</table>\n",
       "<table class=\"simpletable\">\n",
       "<tr>\n",
       "            <td></td>              <th>coef</th>     <th>std err</th>      <th>z</th>      <th>P>|z|</th>  <th>[0.025</th>    <th>0.975]</th>  \n",
       "</tr>\n",
       "<tr>\n",
       "  <th>const</th>                <td>   -0.0002</td> <td>    0.008</td> <td>   -0.022</td> <td> 0.982</td> <td>   -0.016</td> <td>    0.016</td>\n",
       "</tr>\n",
       "<tr>\n",
       "  <th>ar.L1.D2.#Passengers</th> <td>   -0.2994</td> <td>    0.081</td> <td>   -3.697</td> <td> 0.000</td> <td>   -0.458</td> <td>   -0.141</td>\n",
       "</tr>\n",
       "</table>\n",
       "<table class=\"simpletable\">\n",
       "<caption>Roots</caption>\n",
       "<tr>\n",
       "    <td></td>   <th>            Real</th>  <th>         Imaginary</th> <th>         Modulus</th>  <th>        Frequency</th>\n",
       "</tr>\n",
       "<tr>\n",
       "  <th>AR.1</th> <td>          -3.3397</td> <td>          +0.0000j</td> <td>           3.3397</td> <td>           0.5000</td>\n",
       "</tr>\n",
       "</table>"
      ],
      "text/plain": [
       "<class 'statsmodels.iolib.summary.Summary'>\n",
       "\"\"\"\n",
       "                             ARIMA Model Results                              \n",
       "==============================================================================\n",
       "Dep. Variable:         D2.#Passengers   No. Observations:                  142\n",
       "Model:                 ARIMA(1, 2, 0)   Log Likelihood                  89.869\n",
       "Method:                       css-mle   S.D. of innovations              0.128\n",
       "Date:                Fri, 25 Feb 2022   AIC                           -173.738\n",
       "Time:                        11:57:52   BIC                           -164.870\n",
       "Sample:                    03-01-1949   HQIC                          -170.135\n",
       "                         - 12-01-1960                                         \n",
       "========================================================================================\n",
       "                           coef    std err          z      P>|z|      [0.025      0.975]\n",
       "----------------------------------------------------------------------------------------\n",
       "const                   -0.0002      0.008     -0.022      0.982      -0.016       0.016\n",
       "ar.L1.D2.#Passengers    -0.2994      0.081     -3.697      0.000      -0.458      -0.141\n",
       "                                    Roots                                    \n",
       "=============================================================================\n",
       "                  Real          Imaginary           Modulus         Frequency\n",
       "-----------------------------------------------------------------------------\n",
       "AR.1           -3.3397           +0.0000j            3.3397            0.5000\n",
       "-----------------------------------------------------------------------------\n",
       "\"\"\""
      ]
     },
     "execution_count": 11,
     "metadata": {},
     "output_type": "execute_result"
    }
   ],
   "source": [
    "# Model\n",
    "\n",
    "model_AR = ARIMA(log_ts, order = (1,2,0))\n",
    "\n",
    "#fit this model to get the summary of the model\n",
    "\n",
    "summary_model = model_AR.fit(disp = False)\n",
    "\n",
    "summary_model.summary()"
   ]
  },
  {
   "cell_type": "code",
   "execution_count": 12,
   "id": "5ed6e5d5",
   "metadata": {},
   "outputs": [
    {
     "data": {
      "text/html": [
       "<table class=\"simpletable\">\n",
       "<caption>ARIMA Model Results</caption>\n",
       "<tr>\n",
       "  <th>Dep. Variable:</th>  <td>D2.#Passengers</td>  <th>  No. Observations:  </th>    <td>142</td>  \n",
       "</tr>\n",
       "<tr>\n",
       "  <th>Model:</th>          <td>ARIMA(0, 2, 1)</td>  <th>  Log Likelihood     </th>  <td>114.058</td>\n",
       "</tr>\n",
       "<tr>\n",
       "  <th>Method:</th>             <td>css-mle</td>     <th>  S.D. of innovations</th>   <td>0.107</td> \n",
       "</tr>\n",
       "<tr>\n",
       "  <th>Date:</th>          <td>Fri, 25 Feb 2022</td> <th>  AIC                </th> <td>-222.117</td>\n",
       "</tr>\n",
       "<tr>\n",
       "  <th>Time:</th>              <td>11:57:52</td>     <th>  BIC                </th> <td>-213.249</td>\n",
       "</tr>\n",
       "<tr>\n",
       "  <th>Sample:</th>           <td>03-01-1949</td>    <th>  HQIC               </th> <td>-218.513</td>\n",
       "</tr>\n",
       "<tr>\n",
       "  <th></th>                 <td>- 12-01-1960</td>   <th>                     </th>     <td> </td>   \n",
       "</tr>\n",
       "</table>\n",
       "<table class=\"simpletable\">\n",
       "<tr>\n",
       "            <td></td>              <th>coef</th>     <th>std err</th>      <th>z</th>      <th>P>|z|</th>  <th>[0.025</th>    <th>0.975]</th>  \n",
       "</tr>\n",
       "<tr>\n",
       "  <th>const</th>                <td>-8.792e-05</td> <td>    0.000</td> <td>   -0.407</td> <td> 0.684</td> <td>   -0.001</td> <td>    0.000</td>\n",
       "</tr>\n",
       "<tr>\n",
       "  <th>ma.L1.D2.#Passengers</th> <td>   -0.9985</td> <td>    0.018</td> <td>  -55.945</td> <td> 0.000</td> <td>   -1.033</td> <td>   -0.963</td>\n",
       "</tr>\n",
       "</table>\n",
       "<table class=\"simpletable\">\n",
       "<caption>Roots</caption>\n",
       "<tr>\n",
       "    <td></td>   <th>            Real</th>  <th>         Imaginary</th> <th>         Modulus</th>  <th>        Frequency</th>\n",
       "</tr>\n",
       "<tr>\n",
       "  <th>MA.1</th> <td>           1.0015</td> <td>          +0.0000j</td> <td>           1.0015</td> <td>           0.0000</td>\n",
       "</tr>\n",
       "</table>"
      ],
      "text/plain": [
       "<class 'statsmodels.iolib.summary.Summary'>\n",
       "\"\"\"\n",
       "                             ARIMA Model Results                              \n",
       "==============================================================================\n",
       "Dep. Variable:         D2.#Passengers   No. Observations:                  142\n",
       "Model:                 ARIMA(0, 2, 1)   Log Likelihood                 114.058\n",
       "Method:                       css-mle   S.D. of innovations              0.107\n",
       "Date:                Fri, 25 Feb 2022   AIC                           -222.117\n",
       "Time:                        11:57:52   BIC                           -213.249\n",
       "Sample:                    03-01-1949   HQIC                          -218.513\n",
       "                         - 12-01-1960                                         \n",
       "========================================================================================\n",
       "                           coef    std err          z      P>|z|      [0.025      0.975]\n",
       "----------------------------------------------------------------------------------------\n",
       "const                -8.792e-05      0.000     -0.407      0.684      -0.001       0.000\n",
       "ma.L1.D2.#Passengers    -0.9985      0.018    -55.945      0.000      -1.033      -0.963\n",
       "                                    Roots                                    \n",
       "=============================================================================\n",
       "                  Real          Imaginary           Modulus         Frequency\n",
       "-----------------------------------------------------------------------------\n",
       "MA.1            1.0015           +0.0000j            1.0015            0.0000\n",
       "-----------------------------------------------------------------------------\n",
       "\"\"\""
      ]
     },
     "execution_count": 12,
     "metadata": {},
     "output_type": "execute_result"
    }
   ],
   "source": [
    "# build the 2nd model - - MA model with p = 0, d = 2, q = 1\n",
    "\n",
    "model_MA = ARIMA(log_ts, order = (0,2,1))\n",
    "\n",
    "# Lets fit this model to get the summary of the model\n",
    "\n",
    "summary_model_MA = model_MA.fit(disp = False)\n",
    "summary_model_MA.summary()"
   ]
  },
  {
   "cell_type": "code",
   "execution_count": 13,
   "id": "7388e649",
   "metadata": {},
   "outputs": [],
   "source": [
    "# The AIC value of AR model -173.738 and AIC value for MA model -222.117,\n",
    "# The MA model has least AIC value thus MA model will be the best model to forcast the time series data."
   ]
  },
  {
   "cell_type": "markdown",
   "id": "01010dba",
   "metadata": {},
   "source": [
    "    "
   ]
  },
  {
   "cell_type": "markdown",
   "id": "2ae22ced",
   "metadata": {},
   "source": []
  },
  {
   "cell_type": "code",
   "execution_count": 14,
   "id": "527aaabb",
   "metadata": {},
   "outputs": [],
   "source": [
    "# PCAF on iris data\n",
    "from pydataset import data\n"
   ]
  },
  {
   "cell_type": "code",
   "execution_count": 15,
   "id": "2aa3c1e2",
   "metadata": {},
   "outputs": [
    {
     "data": {
      "text/html": [
       "<div>\n",
       "<style scoped>\n",
       "    .dataframe tbody tr th:only-of-type {\n",
       "        vertical-align: middle;\n",
       "    }\n",
       "\n",
       "    .dataframe tbody tr th {\n",
       "        vertical-align: top;\n",
       "    }\n",
       "\n",
       "    .dataframe thead th {\n",
       "        text-align: right;\n",
       "    }\n",
       "</style>\n",
       "<table border=\"1\" class=\"dataframe\">\n",
       "  <thead>\n",
       "    <tr style=\"text-align: right;\">\n",
       "      <th></th>\n",
       "      <th>Sepal.Length</th>\n",
       "      <th>Sepal.Width</th>\n",
       "      <th>Petal.Length</th>\n",
       "      <th>Petal.Width</th>\n",
       "      <th>Species</th>\n",
       "    </tr>\n",
       "  </thead>\n",
       "  <tbody>\n",
       "    <tr>\n",
       "      <th>1</th>\n",
       "      <td>5.1</td>\n",
       "      <td>3.5</td>\n",
       "      <td>1.4</td>\n",
       "      <td>0.2</td>\n",
       "      <td>setosa</td>\n",
       "    </tr>\n",
       "    <tr>\n",
       "      <th>2</th>\n",
       "      <td>4.9</td>\n",
       "      <td>3.0</td>\n",
       "      <td>1.4</td>\n",
       "      <td>0.2</td>\n",
       "      <td>setosa</td>\n",
       "    </tr>\n",
       "    <tr>\n",
       "      <th>3</th>\n",
       "      <td>4.7</td>\n",
       "      <td>3.2</td>\n",
       "      <td>1.3</td>\n",
       "      <td>0.2</td>\n",
       "      <td>setosa</td>\n",
       "    </tr>\n",
       "    <tr>\n",
       "      <th>4</th>\n",
       "      <td>4.6</td>\n",
       "      <td>3.1</td>\n",
       "      <td>1.5</td>\n",
       "      <td>0.2</td>\n",
       "      <td>setosa</td>\n",
       "    </tr>\n",
       "    <tr>\n",
       "      <th>5</th>\n",
       "      <td>5.0</td>\n",
       "      <td>3.6</td>\n",
       "      <td>1.4</td>\n",
       "      <td>0.2</td>\n",
       "      <td>setosa</td>\n",
       "    </tr>\n",
       "  </tbody>\n",
       "</table>\n",
       "</div>"
      ],
      "text/plain": [
       "   Sepal.Length  Sepal.Width  Petal.Length  Petal.Width Species\n",
       "1           5.1          3.5           1.4          0.2  setosa\n",
       "2           4.9          3.0           1.4          0.2  setosa\n",
       "3           4.7          3.2           1.3          0.2  setosa\n",
       "4           4.6          3.1           1.5          0.2  setosa\n",
       "5           5.0          3.6           1.4          0.2  setosa"
      ]
     },
     "execution_count": 15,
     "metadata": {},
     "output_type": "execute_result"
    }
   ],
   "source": [
    "df1 = data(\"iris\")\n",
    "\n",
    "df1.head()"
   ]
  },
  {
   "cell_type": "code",
   "execution_count": 16,
   "id": "c80b7bc7",
   "metadata": {},
   "outputs": [],
   "source": [
    "# define X and Y\n",
    "\n",
    "X = df1[['Sepal.Length', 'Sepal.Width', 'Petal.Length', 'Petal.Width']]\n",
    "Y = df1[['Species']]"
   ]
  },
  {
   "cell_type": "code",
   "execution_count": 17,
   "id": "2e16a4f1",
   "metadata": {},
   "outputs": [],
   "source": [
    "# Split the data\n",
    "\n",
    "from sklearn.model_selection import train_test_split\n",
    "\n",
    "X_train, X_test, Y_train, Y_test = train_test_split(X,Y, test_size = 0.2, random_state = 1234)"
   ]
  },
  {
   "cell_type": "code",
   "execution_count": 18,
   "id": "1a073353",
   "metadata": {},
   "outputs": [],
   "source": [
    "# Build the model on X_train and Y_train\n",
    "\n",
    "from sklearn.ensemble import RandomForestClassifier\n",
    "\n",
    "RF = RandomForestClassifier(random_state = 1234)"
   ]
  },
  {
   "cell_type": "code",
   "execution_count": 53,
   "id": "68d66a08",
   "metadata": {},
   "outputs": [
    {
     "data": {
      "text/plain": [
       "RandomForestClassifier(random_state=1234)"
      ]
     },
     "execution_count": 53,
     "metadata": {},
     "output_type": "execute_result"
    }
   ],
   "source": [
    "# fit the model\n",
    "model1 = RF.fit(X_train, Y_train)\n",
    "\n",
    "model1"
   ]
  },
  {
   "cell_type": "code",
   "execution_count": 54,
   "id": "f95a16a1",
   "metadata": {},
   "outputs": [
    {
     "data": {
      "text/plain": [
       "RandomForestClassifier(random_state=1234)"
      ]
     },
     "execution_count": 54,
     "metadata": {},
     "output_type": "execute_result"
    }
   ],
   "source": [
    "RandomForestClassifier(random_state=1234)"
   ]
  },
  {
   "cell_type": "code",
   "execution_count": 55,
   "id": "0f48440c",
   "metadata": {},
   "outputs": [
    {
     "data": {
      "text/html": [
       "<div>\n",
       "<style scoped>\n",
       "    .dataframe tbody tr th:only-of-type {\n",
       "        vertical-align: middle;\n",
       "    }\n",
       "\n",
       "    .dataframe tbody tr th {\n",
       "        vertical-align: top;\n",
       "    }\n",
       "\n",
       "    .dataframe thead th {\n",
       "        text-align: right;\n",
       "    }\n",
       "</style>\n",
       "<table border=\"1\" class=\"dataframe\">\n",
       "  <thead>\n",
       "    <tr style=\"text-align: right;\">\n",
       "      <th></th>\n",
       "      <th>Species</th>\n",
       "      <th>Pred_Species</th>\n",
       "    </tr>\n",
       "  </thead>\n",
       "  <tbody>\n",
       "    <tr>\n",
       "      <th>92</th>\n",
       "      <td>versicolor</td>\n",
       "      <td>versicolor</td>\n",
       "    </tr>\n",
       "    <tr>\n",
       "      <th>64</th>\n",
       "      <td>versicolor</td>\n",
       "      <td>versicolor</td>\n",
       "    </tr>\n",
       "    <tr>\n",
       "      <th>104</th>\n",
       "      <td>virginica</td>\n",
       "      <td>virginica</td>\n",
       "    </tr>\n",
       "    <tr>\n",
       "      <th>7</th>\n",
       "      <td>setosa</td>\n",
       "      <td>setosa</td>\n",
       "    </tr>\n",
       "    <tr>\n",
       "      <th>60</th>\n",
       "      <td>versicolor</td>\n",
       "      <td>versicolor</td>\n",
       "    </tr>\n",
       "  </tbody>\n",
       "</table>\n",
       "</div>"
      ],
      "text/plain": [
       "        Species Pred_Species\n",
       "92   versicolor   versicolor\n",
       "64   versicolor   versicolor\n",
       "104   virginica    virginica\n",
       "7        setosa       setosa\n",
       "60   versicolor   versicolor"
      ]
     },
     "execution_count": 55,
     "metadata": {},
     "output_type": "execute_result"
    }
   ],
   "source": [
    "# Predict the test cases\n",
    "\n",
    "Y_test['Pred_Species'] = model1.predict(X_test)\n",
    "\n",
    "Y_test.head()"
   ]
  },
  {
   "cell_type": "code",
   "execution_count": 56,
   "id": "fd30f95a",
   "metadata": {},
   "outputs": [
    {
     "name": "stdout",
     "output_type": "stream",
     "text": [
      "[[ 9  0  0]\n",
      " [ 0 13  0]\n",
      " [ 0  0  8]]\n",
      "1.0\n"
     ]
    }
   ],
   "source": [
    "from sklearn.metrics import confusion_matrix, accuracy_score\n",
    "# cofusion matrix and accuracy\n",
    "print(confusion_matrix(Y_test['Species'], Y_test['Pred_Species']))\n",
    "print(accuracy_score(Y_test['Species'], Y_test['Pred_Species']))"
   ]
  },
  {
   "cell_type": "code",
   "execution_count": 57,
   "id": "6765c29f",
   "metadata": {},
   "outputs": [],
   "source": [
    "sc = StandardScaler()"
   ]
  },
  {
   "cell_type": "code",
   "execution_count": 58,
   "id": "be9a2902",
   "metadata": {},
   "outputs": [],
   "source": [
    "# fit on input variable\n",
    "X_scaled = sc.fit_transform(X)"
   ]
  },
  {
   "cell_type": "code",
   "execution_count": 45,
   "id": "3c1a37fc",
   "metadata": {},
   "outputs": [
    {
     "data": {
      "text/plain": [
       "PCA(n_components=4)"
      ]
     },
     "execution_count": 45,
     "metadata": {},
     "output_type": "execute_result"
    }
   ],
   "source": [
    "# find all the principle components\n",
    "\n",
    "pca = PCA(n_components=4) \n",
    "pca"
   ]
  },
  {
   "cell_type": "code",
   "execution_count": 46,
   "id": "c161346a",
   "metadata": {},
   "outputs": [
    {
     "data": {
      "text/plain": [
       "PCA(n_components=4)"
      ]
     },
     "execution_count": 46,
     "metadata": {},
     "output_type": "execute_result"
    }
   ],
   "source": [
    "# fit PCA objet on scaled inpit variable\n",
    "pca.fit(X_scaled)"
   ]
  },
  {
   "cell_type": "code",
   "execution_count": 47,
   "id": "947b0e73",
   "metadata": {},
   "outputs": [
    {
     "data": {
      "text/plain": [
       "array([0.72962445, 0.22850762, 0.03668922, 0.00517871])"
      ]
     },
     "execution_count": 47,
     "metadata": {},
     "output_type": "execute_result"
    }
   ],
   "source": [
    "# How much info. each of these PCs will be giving for the original data-\n",
    "\n",
    "var = pca.explained_variance_ratio_\n",
    "var"
   ]
  },
  {
   "cell_type": "code",
   "execution_count": 48,
   "id": "a6d9b093",
   "metadata": {},
   "outputs": [],
   "source": [
    "# by using first 2 input we can get 95+% information to extract output with good accuracy\n"
   ]
  },
  {
   "cell_type": "code",
   "execution_count": 59,
   "id": "5cd98855",
   "metadata": {},
   "outputs": [],
   "source": [
    "# below steps to build model using PCs"
   ]
  },
  {
   "cell_type": "code",
   "execution_count": 60,
   "id": "5acdc95d",
   "metadata": {},
   "outputs": [],
   "source": [
    "# find your two PCs\n",
    "pca_new = PCA(n_components=2)"
   ]
  },
  {
   "cell_type": "code",
   "execution_count": 62,
   "id": "5a1045ae",
   "metadata": {},
   "outputs": [],
   "source": [
    "# scale x_tain and x_test\n",
    "x_train_scaled = sc.fit_transform(X_train)\n",
    "x_test_scaled = sc.transform(X_test)"
   ]
  },
  {
   "cell_type": "code",
   "execution_count": 63,
   "id": "8288e77a",
   "metadata": {},
   "outputs": [],
   "source": [
    "# Applying the PCs on X_train_scaled, x_test_sccaled\n",
    "x_train_pc = pca_new.fit_transform(x_train_scaled)\n",
    "x_test_pc = pca_new.transform(x_test_scaled)"
   ]
  },
  {
   "cell_type": "code",
   "execution_count": 65,
   "id": "1347b902",
   "metadata": {},
   "outputs": [],
   "source": [
    "# Build the model\n",
    "RF = RandomForestClassifier(random_state=1234)\n",
    "model2 = RF.fit(x_train_pc, Y_train)"
   ]
  },
  {
   "cell_type": "code",
   "execution_count": 67,
   "id": "21ecf141",
   "metadata": {},
   "outputs": [],
   "source": [
    "#  predict test cases\n",
    "Y_test['Pred_Species_PCA'] = model2.predict(x_test_pc)"
   ]
  },
  {
   "cell_type": "code",
   "execution_count": 69,
   "id": "564e5ded",
   "metadata": {},
   "outputs": [
    {
     "name": "stdout",
     "output_type": "stream",
     "text": [
      "[[ 9  0  0]\n",
      " [ 0 12  1]\n",
      " [ 0  0  8]]\n",
      "0.9666666666666667\n"
     ]
    }
   ],
   "source": [
    "# confusion matrics and accuracy\n",
    "print(confusion_matrix(Y_test['Species'], Y_test['Pred_Species_PCA']))\n",
    "print(accuracy_score(Y_test['Species'], Y_test['Pred_Species_PCA']))"
   ]
  },
  {
   "cell_type": "markdown",
   "id": "b0d092e6",
   "metadata": {},
   "source": []
  }
 ],
 "metadata": {
  "kernelspec": {
   "display_name": "Python 3 (ipykernel)",
   "language": "python",
   "name": "python3"
  },
  "language_info": {
   "codemirror_mode": {
    "name": "ipython",
    "version": 3
   },
   "file_extension": ".py",
   "mimetype": "text/x-python",
   "name": "python",
   "nbconvert_exporter": "python",
   "pygments_lexer": "ipython3",
   "version": "3.9.7"
  }
 },
 "nbformat": 4,
 "nbformat_minor": 5
}
